{
 "cells": [
  {
   "cell_type": "markdown",
   "id": "a985e71b",
   "metadata": {},
   "source": [
    "# Calculadora de intervalo de confiança"
   ]
  },
  {
   "cell_type": "code",
   "execution_count": 18,
   "id": "ea2e7061",
   "metadata": {},
   "outputs": [],
   "source": [
    "import numpy as np \n",
    "from scipy.stats import t"
   ]
  },
  {
   "cell_type": "code",
   "execution_count": 19,
   "id": "67064c59",
   "metadata": {},
   "outputs": [],
   "source": [
    "# Simular um conjunto de dados composto por 100 números extraídos de uma distribuição normal.\n",
    "x = np.random.normal (size=100)"
   ]
  },
  {
   "cell_type": "code",
   "execution_count": 20,
   "id": "296fc351",
   "metadata": {},
   "outputs": [],
   "source": [
    "# Vamos calcular o intervalo de confiança de 95% do valor médio.\n",
    "# Vamos calcular todos os números que precisamos de acordo com a fórmula dos intervalos de confiança.\n",
    "m = x.mean()\n",
    "s = x.std()\n",
    "dof = len(x) -1\n",
    "confidence = 0.95"
   ]
  },
  {
   "cell_type": "code",
   "execution_count": 21,
   "id": "f9ca1584",
   "metadata": {},
   "outputs": [],
   "source": [
    "# Agora precisamos do valor de t. A função que calcula a distribuição cumulativa inversa é ppf.\n",
    "# Precisamos aplicar o valor absoluto porque a distribuição cumulativa funciona com a cauda esquerda, então o resultado seria negativo.\n",
    "t_crit = np.abs(t.ppf((1-confidence)/2,dof))"
   ]
  },
  {
   "cell_type": "code",
   "execution_count": 24,
   "id": "bccffea4",
   "metadata": {},
   "outputs": [
    {
     "data": {
      "text/plain": [
       "(-0.2080613985931279, 0.19644237743923)"
      ]
     },
     "execution_count": 24,
     "metadata": {},
     "output_type": "execute_result"
    }
   ],
   "source": [
    "# Agora, podemos aplicar a fórmula original para calcular o intervalo de confiança de 95%.\n",
    "(m-s*t_crit/np.sqrt(len(x)), m+s*t_crit/np.sqrt(len(x)))\n",
    "\n",
    "# (-0,14017768797464097, 0,259793719043611)"
   ]
  },
  {
   "cell_type": "markdown",
   "id": "a802362c",
   "metadata": {},
   "source": [
    "# Sabemos que está correto porque a distribuição normal tem média 0, mas se não soubermos nada sobre a população, podemos dizer que, com 95% de confiança, o valor esperado da população está entre -0,14 e 0,26.\n",
    "\n",
    "# Poderíamos ter alcançado o mesmo resultado usando um bootstrap, que é imparcial. Neste exemplo, crio 1.000 reamostras do nosso conjunto de dados (com substituições)."
   ]
  },
  {
   "cell_type": "code",
   "execution_count": 25,
   "id": "549b020d",
   "metadata": {},
   "outputs": [
    {
     "data": {
      "text/plain": [
       "array([-0.20442072,  0.19259062])"
      ]
     },
     "execution_count": 25,
     "metadata": {},
     "output_type": "execute_result"
    }
   ],
   "source": [
    "values = [np.random.choice(x,size=len(x),replace=True).mean() for i in range(1000)] \n",
    "np.percentile(values,[100*(1-confidence)/2,100*(1-(1-confidence)/2)]) \n",
    "# array([-0.13559955, 0.26480175])"
   ]
  },
  {
   "cell_type": "markdown",
   "id": "1a86c0cc",
   "metadata": {},
   "source": [
    "# Como podemos ver, o resultado é quase igual ao que alcançamos com a fórmula fechada."
   ]
  },
  {
   "cell_type": "markdown",
   "id": "f371cc3c",
   "metadata": {},
   "source": [
    "# Conclusão"
   ]
  },
  {
   "cell_type": "markdown",
   "id": "12472242",
   "metadata": {},
   "source": [
    "- Os intervalos de confiança são fáceis de calcular e podem fornecer uma visão muito útil para analistas de dados e cientistas.\n",
    "\n",
    "- Eles fornecem uma estimativa de erro muito poderosa e, se usados corretamente, podem realmente nos ajudar a extrair o máximo de informações possível de nossos dados."
   ]
  },
  {
   "cell_type": "code",
   "execution_count": null,
   "id": "9bcbaeee",
   "metadata": {},
   "outputs": [],
   "source": []
  }
 ],
 "metadata": {
  "kernelspec": {
   "display_name": "Python 3 (ipykernel)",
   "language": "python",
   "name": "python3"
  },
  "language_info": {
   "codemirror_mode": {
    "name": "ipython",
    "version": 3
   },
   "file_extension": ".py",
   "mimetype": "text/x-python",
   "name": "python",
   "nbconvert_exporter": "python",
   "pygments_lexer": "ipython3",
   "version": "3.9.7"
  }
 },
 "nbformat": 4,
 "nbformat_minor": 5
}
